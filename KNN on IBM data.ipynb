{
 "cells": [
  {
   "cell_type": "code",
   "execution_count": 102,
   "metadata": {},
   "outputs": [],
   "source": [
    "import pandas as pd\n",
    "df=pd.read_csv('ibm_stock.csv')\n",
    "df.drop(['High', 'Low','Volume','Open','Adj Close'], axis=1, inplace=True)"
   ]
  },
  {
   "cell_type": "code",
   "execution_count": 161,
   "metadata": {},
   "outputs": [],
   "source": [
    "import numpy as np"
   ]
  },
  {
   "cell_type": "code",
   "execution_count": 103,
   "metadata": {},
   "outputs": [
    {
     "data": {
      "text/html": [
       "<div>\n",
       "<style scoped>\n",
       "    .dataframe tbody tr th:only-of-type {\n",
       "        vertical-align: middle;\n",
       "    }\n",
       "\n",
       "    .dataframe tbody tr th {\n",
       "        vertical-align: top;\n",
       "    }\n",
       "\n",
       "    .dataframe thead th {\n",
       "        text-align: right;\n",
       "    }\n",
       "</style>\n",
       "<table border=\"1\" class=\"dataframe\">\n",
       "  <thead>\n",
       "    <tr style=\"text-align: right;\">\n",
       "      <th></th>\n",
       "      <th>Date</th>\n",
       "      <th>Close</th>\n",
       "    </tr>\n",
       "  </thead>\n",
       "  <tbody>\n",
       "    <tr>\n",
       "      <th>0</th>\n",
       "      <td>2017-01-03</td>\n",
       "      <td>167.190002</td>\n",
       "    </tr>\n",
       "    <tr>\n",
       "      <th>1</th>\n",
       "      <td>2017-01-04</td>\n",
       "      <td>169.259995</td>\n",
       "    </tr>\n",
       "    <tr>\n",
       "      <th>2</th>\n",
       "      <td>2017-01-05</td>\n",
       "      <td>168.699997</td>\n",
       "    </tr>\n",
       "    <tr>\n",
       "      <th>3</th>\n",
       "      <td>2017-01-06</td>\n",
       "      <td>169.529999</td>\n",
       "    </tr>\n",
       "    <tr>\n",
       "      <th>4</th>\n",
       "      <td>2017-01-09</td>\n",
       "      <td>167.649994</td>\n",
       "    </tr>\n",
       "  </tbody>\n",
       "</table>\n",
       "</div>"
      ],
      "text/plain": [
       "         Date       Close\n",
       "0  2017-01-03  167.190002\n",
       "1  2017-01-04  169.259995\n",
       "2  2017-01-05  168.699997\n",
       "3  2017-01-06  169.529999\n",
       "4  2017-01-09  167.649994"
      ]
     },
     "execution_count": 103,
     "metadata": {},
     "output_type": "execute_result"
    }
   ],
   "source": [
    "df.head()"
   ]
  },
  {
   "cell_type": "code",
   "execution_count": 104,
   "metadata": {},
   "outputs": [],
   "source": [
    "#Converting Date into timestamp \n",
    "from datetime import datetime\n",
    "a=[]\n",
    "for i in range(0,754):\n",
    "    x=df['Date'][i]\n",
    "    datetime_obj=datetime.strptime(x,'%Y-%m-%d')\n",
    "    a.append(datetime.timestamp(datetime_obj))\n",
    "    \n"
   ]
  },
  {
   "cell_type": "code",
   "execution_count": 105,
   "metadata": {},
   "outputs": [],
   "source": [
    "df['Date']=a"
   ]
  },
  {
   "cell_type": "code",
   "execution_count": 106,
   "metadata": {},
   "outputs": [
    {
     "data": {
      "text/html": [
       "<div>\n",
       "<style scoped>\n",
       "    .dataframe tbody tr th:only-of-type {\n",
       "        vertical-align: middle;\n",
       "    }\n",
       "\n",
       "    .dataframe tbody tr th {\n",
       "        vertical-align: top;\n",
       "    }\n",
       "\n",
       "    .dataframe thead th {\n",
       "        text-align: right;\n",
       "    }\n",
       "</style>\n",
       "<table border=\"1\" class=\"dataframe\">\n",
       "  <thead>\n",
       "    <tr style=\"text-align: right;\">\n",
       "      <th></th>\n",
       "      <th>Date</th>\n",
       "      <th>Close</th>\n",
       "    </tr>\n",
       "  </thead>\n",
       "  <tbody>\n",
       "    <tr>\n",
       "      <th>0</th>\n",
       "      <td>1.483382e+09</td>\n",
       "      <td>167.190002</td>\n",
       "    </tr>\n",
       "    <tr>\n",
       "      <th>1</th>\n",
       "      <td>1.483468e+09</td>\n",
       "      <td>169.259995</td>\n",
       "    </tr>\n",
       "    <tr>\n",
       "      <th>2</th>\n",
       "      <td>1.483555e+09</td>\n",
       "      <td>168.699997</td>\n",
       "    </tr>\n",
       "    <tr>\n",
       "      <th>3</th>\n",
       "      <td>1.483641e+09</td>\n",
       "      <td>169.529999</td>\n",
       "    </tr>\n",
       "    <tr>\n",
       "      <th>4</th>\n",
       "      <td>1.483900e+09</td>\n",
       "      <td>167.649994</td>\n",
       "    </tr>\n",
       "  </tbody>\n",
       "</table>\n",
       "</div>"
      ],
      "text/plain": [
       "           Date       Close\n",
       "0  1.483382e+09  167.190002\n",
       "1  1.483468e+09  169.259995\n",
       "2  1.483555e+09  168.699997\n",
       "3  1.483641e+09  169.529999\n",
       "4  1.483900e+09  167.649994"
      ]
     },
     "execution_count": 106,
     "metadata": {},
     "output_type": "execute_result"
    }
   ],
   "source": [
    "df.head()"
   ]
  },
  {
   "cell_type": "code",
   "execution_count": 107,
   "metadata": {},
   "outputs": [],
   "source": [
    "#Creating training and testing dataset\n",
    "from sklearn.model_selection import train_test_split\n",
    "train,test = train_test_split(df, test_size = 0.2,random_state=2)\n",
    "\n",
    "x_train = train.drop('Close', axis=1)\n",
    "y_train = train['Close']\n",
    "\n",
    "x_test = test.drop('Close', axis = 1)\n",
    "y_test = test['Close']"
   ]
  },
  {
   "cell_type": "code",
   "execution_count": 108,
   "metadata": {},
   "outputs": [],
   "source": [
    "x_tr=x_train\n",
    "y_tr=y_train\n",
    "x_ts=x_test\n",
    "y_ts=y_test"
   ]
  },
  {
   "cell_type": "code",
   "execution_count": null,
   "metadata": {},
   "outputs": [],
   "source": []
  },
  {
   "cell_type": "code",
   "execution_count": 109,
   "metadata": {},
   "outputs": [],
   "source": [
    "#Scaling data\n",
    "from sklearn.preprocessing import MinMaxScaler\n",
    "scaler = MinMaxScaler(feature_range=(0, 1))\n",
    "\n",
    "x_train_scaled = scaler.fit_transform(x_train)\n",
    "x_train = pd.DataFrame(x_train_scaled)\n",
    "\n",
    "x_test_scaled = scaler.fit_transform(x_test)\n",
    "x_test = pd.DataFrame(x_test_scaled)"
   ]
  },
  {
   "cell_type": "code",
   "execution_count": 110,
   "metadata": {},
   "outputs": [
    {
     "name": "stdout",
     "output_type": "stream",
     "text": [
      "RMSE value for k=  1 is: 6.319179578519851\n",
      "RMSE value for k=  2 is: 6.186923169987606\n",
      "RMSE value for k=  3 is: 5.904581115559953\n",
      "RMSE value for k=  4 is: 5.910591991375373\n",
      "RMSE value for k=  5 is: 5.801684255172337\n",
      "RMSE value for k=  6 is: 5.853817444823108\n",
      "RMSE value for k=  7 is: 5.658598308329975\n",
      "RMSE value for k=  8 is: 5.65626714902283\n",
      "RMSE value for k=  9 is: 5.588007794773518\n",
      "RMSE value for k=  10 is: 5.504499514974901\n",
      "RMSE value for k=  11 is: 5.36251116024929\n",
      "RMSE value for k=  12 is: 5.377644702322242\n",
      "RMSE value for k=  13 is: 5.2473253170629\n",
      "RMSE value for k=  14 is: 5.298681005919521\n",
      "RMSE value for k=  15 is: 5.205931130424183\n",
      "RMSE value for k=  16 is: 5.213673050356123\n",
      "RMSE value for k=  17 is: 5.198544574791256\n",
      "RMSE value for k=  18 is: 5.193438765198603\n",
      "RMSE value for k=  19 is: 5.1499499430019275\n",
      "RMSE value for k=  20 is: 5.058047072986296\n",
      "RMSE value for k=  21 is: 4.996654580293451\n",
      "RMSE value for k=  22 is: 5.018320983791763\n",
      "RMSE value for k=  23 is: 4.967874005931231\n",
      "RMSE value for k=  24 is: 4.933867505085203\n",
      "RMSE value for k=  25 is: 4.917440224863565\n",
      "RMSE value for k=  26 is: 4.935186384914785\n",
      "RMSE value for k=  27 is: 4.903609513628105\n",
      "RMSE value for k=  28 is: 4.930891223355058\n",
      "RMSE value for k=  29 is: 4.942727324694842\n",
      "RMSE value for k=  30 is: 4.967129794995939\n",
      "RMSE value for k=  31 is: 4.950992026211078\n",
      "RMSE value for k=  32 is: 5.009947303129728\n",
      "RMSE value for k=  33 is: 4.994651329583091\n",
      "RMSE value for k=  34 is: 5.020388463597055\n",
      "RMSE value for k=  35 is: 5.05747648388861\n",
      "RMSE value for k=  36 is: 5.091703396837848\n",
      "RMSE value for k=  37 is: 5.069477609245699\n",
      "RMSE value for k=  38 is: 5.124602846237901\n",
      "RMSE value for k=  39 is: 5.104966036870603\n",
      "RMSE value for k=  40 is: 5.1564400042791085\n",
      "RMSE value for k=  41 is: 5.195918306306606\n",
      "RMSE value for k=  42 is: 5.217994364098585\n",
      "RMSE value for k=  43 is: 5.259382558331492\n",
      "RMSE value for k=  44 is: 5.297395206640352\n",
      "RMSE value for k=  45 is: 5.351531853785446\n",
      "RMSE value for k=  46 is: 5.360689156955311\n",
      "RMSE value for k=  47 is: 5.411665674709915\n",
      "RMSE value for k=  48 is: 5.431356890287175\n",
      "RMSE value for k=  49 is: 5.484430818444876\n",
      "RMSE value for k=  50 is: 5.51187076294266\n",
      "RMSE value for k=  51 is: 5.545630607159288\n",
      "RMSE value for k=  52 is: 5.5763445596229575\n",
      "RMSE value for k=  53 is: 5.603792288341862\n",
      "RMSE value for k=  54 is: 5.634212252797921\n",
      "RMSE value for k=  55 is: 5.672743916764347\n",
      "RMSE value for k=  56 is: 5.679453006681439\n",
      "RMSE value for k=  57 is: 5.730698108782574\n",
      "RMSE value for k=  58 is: 5.754115815174776\n",
      "RMSE value for k=  59 is: 5.797261877564947\n",
      "RMSE value for k=  60 is: 5.84373950588734\n",
      "RMSE value for k=  61 is: 5.893018029212996\n",
      "RMSE value for k=  62 is: 5.934397783639268\n",
      "RMSE value for k=  63 is: 5.965932880345354\n",
      "RMSE value for k=  64 is: 5.996591897097503\n",
      "RMSE value for k=  65 is: 6.03414107729556\n",
      "RMSE value for k=  66 is: 6.092462589306575\n",
      "RMSE value for k=  67 is: 6.098447724891628\n",
      "RMSE value for k=  68 is: 6.136597730555985\n",
      "RMSE value for k=  69 is: 6.160562551697958\n",
      "RMSE value for k=  70 is: 6.196259128846262\n",
      "RMSE value for k=  71 is: 6.2244917988657775\n",
      "RMSE value for k=  72 is: 6.256703316536185\n",
      "RMSE value for k=  73 is: 6.305205624665034\n",
      "RMSE value for k=  74 is: 6.341723331650635\n",
      "RMSE value for k=  75 is: 6.390322622164802\n",
      "RMSE value for k=  76 is: 6.413054676540731\n",
      "RMSE value for k=  77 is: 6.466472891046407\n",
      "RMSE value for k=  78 is: 6.503353807353662\n",
      "RMSE value for k=  79 is: 6.541017109516374\n",
      "RMSE value for k=  80 is: 6.581427124791511\n",
      "RMSE value for k=  81 is: 6.613265915326714\n",
      "RMSE value for k=  82 is: 6.650107659284585\n",
      "RMSE value for k=  83 is: 6.70040764861444\n",
      "RMSE value for k=  84 is: 6.74149967140381\n",
      "RMSE value for k=  85 is: 6.78789134030059\n",
      "RMSE value for k=  86 is: 6.830153904312795\n",
      "RMSE value for k=  87 is: 6.86966886987309\n",
      "RMSE value for k=  88 is: 6.904965284019655\n",
      "RMSE value for k=  89 is: 6.950514858856796\n",
      "RMSE value for k=  90 is: 6.9870181808733065\n",
      "RMSE value for k=  91 is: 7.03437094252095\n",
      "RMSE value for k=  92 is: 7.072050043683637\n",
      "RMSE value for k=  93 is: 7.124398036149345\n",
      "RMSE value for k=  94 is: 7.164030478581289\n",
      "RMSE value for k=  95 is: 7.195415727746921\n",
      "RMSE value for k=  96 is: 7.232694041082556\n",
      "RMSE value for k=  97 is: 7.275450801349607\n",
      "RMSE value for k=  98 is: 7.304163536581108\n",
      "RMSE value for k=  99 is: 7.338878260980017\n",
      "RMSE value for k=  100 is: 7.372768630772976\n"
     ]
    }
   ],
   "source": [
    "#For different k using Grid Search Method\n",
    "#import required packages\n",
    "from sklearn import neighbors\n",
    "from sklearn.metrics import mean_squared_error \n",
    "from math import sqrt\n",
    "import matplotlib.pyplot as plt\n",
    "%matplotlib inline\n",
    "rmse_val = [] #to store rmse values for different k\n",
    "for K in range(100):\n",
    "    K = K+1\n",
    "    model = neighbors.KNeighborsRegressor(n_neighbors = K)\n",
    "\n",
    "    model.fit(x_train, y_train)  #fit the model\n",
    "    pred=model.predict(x_test) #make prediction on test set\n",
    "    error = sqrt(mean_squared_error(y_test,pred)) #calculate rmse\n",
    "    rmse_val.append(error) #store rmse values\n",
    "    print('RMSE value for k= ' , K , 'is:', error)\n",
    "\n",
    "#Final k=27 havin "
   ]
  },
  {
   "cell_type": "code",
   "execution_count": 111,
   "metadata": {},
   "outputs": [
    {
     "data": {
      "text/plain": [
       "4.903609513628105"
      ]
     },
     "execution_count": 111,
     "metadata": {},
     "output_type": "execute_result"
    }
   ],
   "source": [
    "min(rmse_val)\n"
   ]
  },
  {
   "cell_type": "code",
   "execution_count": 112,
   "metadata": {},
   "outputs": [],
   "source": [
    "k=27\n",
    "model = neighbors.KNeighborsRegressor(n_neighbors = K)\n",
    "model.fit(x_train, y_train)  #fit the model\n",
    "pred=model.predict(x_test) #make prediction on test set\n"
   ]
  },
  {
   "cell_type": "code",
   "execution_count": 151,
   "metadata": {},
   "outputs": [
    {
     "data": {
      "text/html": [
       "<div>\n",
       "<style scoped>\n",
       "    .dataframe tbody tr th:only-of-type {\n",
       "        vertical-align: middle;\n",
       "    }\n",
       "\n",
       "    .dataframe tbody tr th {\n",
       "        vertical-align: top;\n",
       "    }\n",
       "\n",
       "    .dataframe thead th {\n",
       "        text-align: right;\n",
       "    }\n",
       "</style>\n",
       "<table border=\"1\" class=\"dataframe\">\n",
       "  <thead>\n",
       "    <tr style=\"text-align: right;\">\n",
       "      <th></th>\n",
       "      <th>Actual</th>\n",
       "      <th>Predicted</th>\n",
       "      <th>Date</th>\n",
       "    </tr>\n",
       "  </thead>\n",
       "  <tbody>\n",
       "    <tr>\n",
       "      <th>1</th>\n",
       "      <td>169.259995</td>\n",
       "      <td>167.0634</td>\n",
       "      <td>1.483468e+09</td>\n",
       "    </tr>\n",
       "    <tr>\n",
       "      <th>15</th>\n",
       "      <td>178.289993</td>\n",
       "      <td>167.0634</td>\n",
       "      <td>1.485283e+09</td>\n",
       "    </tr>\n",
       "    <tr>\n",
       "      <th>18</th>\n",
       "      <td>175.800003</td>\n",
       "      <td>167.0634</td>\n",
       "      <td>1.485715e+09</td>\n",
       "    </tr>\n",
       "    <tr>\n",
       "      <th>20</th>\n",
       "      <td>174.289993</td>\n",
       "      <td>167.0634</td>\n",
       "      <td>1.485887e+09</td>\n",
       "    </tr>\n",
       "    <tr>\n",
       "      <th>22</th>\n",
       "      <td>175.820007</td>\n",
       "      <td>167.0634</td>\n",
       "      <td>1.486060e+09</td>\n",
       "    </tr>\n",
       "  </tbody>\n",
       "</table>\n",
       "</div>"
      ],
      "text/plain": [
       "        Actual  Predicted          Date\n",
       "1   169.259995   167.0634  1.483468e+09\n",
       "15  178.289993   167.0634  1.485283e+09\n",
       "18  175.800003   167.0634  1.485715e+09\n",
       "20  174.289993   167.0634  1.485887e+09\n",
       "22  175.820007   167.0634  1.486060e+09"
      ]
     },
     "execution_count": 151,
     "metadata": {},
     "output_type": "execute_result"
    }
   ],
   "source": [
    "dp=pd.DataFrame({'Actual':y_test,'Predicted':pred})\n",
    "dp['Date']=x_ts\n",
    "sort_by_time = dp.sort_values('Date')\n",
    "sort_by_time.head()"
   ]
  },
  {
   "cell_type": "code",
   "execution_count": 154,
   "metadata": {},
   "outputs": [
    {
     "data": {
      "text/plain": [
       "[<matplotlib.lines.Line2D at 0x1e420403828>]"
      ]
     },
     "execution_count": 154,
     "metadata": {},
     "output_type": "execute_result"
    },
    {
     "data": {
      "image/png": "[encoded data removed]",
      "text/plain": [
       "<Figure size 432x288 with 1 Axes>"
      ]
     },
     "metadata": {},
     "output_type": "display_data"
    }
   ],
   "source": [
    "#plotting the y_test and y_pred\n",
    "import matplotlib.pyplot as plt\n",
    "plt.plot(sort_by_time['Date'],dp['Actual'])\n",
    "plt.plot(sort_by_time['Date'],dp['Predicted'])"
   ]
  },
  {
   "cell_type": "code",
   "execution_count": 162,
   "metadata": {},
   "outputs": [],
   "source": [
    "#MAPE\n",
    "def get_mape(y_true, y_pred): \n",
    "    \"\"\"\n",
    "    Compute mean absolute percentage error (MAPE)\n",
    "    \"\"\"\n",
    "    y_true, y_pred = np.array(y_true), np.array(y_pred)\n",
    "    return np.mean(np.abs((y_true - y_pred) / y_true)) * 100"
   ]
  },
  {
   "cell_type": "code",
   "execution_count": 163,
   "metadata": {},
   "outputs": [
    {
     "data": {
      "text/plain": [
       "4.213092241515077"
      ]
     },
     "execution_count": 163,
     "metadata": {},
     "output_type": "execute_result"
    }
   ],
   "source": [
    "get_mape(sort_by_time['Actual'],sort_by_time['Predicted'])"
   ]
  },
  {
   "cell_type": "code",
   "execution_count": 164,
   "metadata": {},
   "outputs": [
    {
     "data": {
      "text/plain": [
       "7.372768630772975"
      ]
     },
     "execution_count": 164,
     "metadata": {},
     "output_type": "execute_result"
    }
   ],
   "source": [
    "from statsmodels.tools.eval_measures import rmse\n",
    "rmse(sort_by_time['Actual'],sort_by_time['Predicted'])"
   ]
  },
  {
   "cell_type": "code",
   "execution_count": null,
   "metadata": {},
   "outputs": [],
   "source": []
  },
  {
   "cell_type": "code",
   "execution_count": null,
   "metadata": {},
   "outputs": [],
   "source": []
  },
  {
   "cell_type": "code",
   "execution_count": null,
   "metadata": {},
   "outputs": [],
   "source": []
  }
 ],
 "metadata": {
  "kernelspec": {
   "display_name": "Python 3",
   "language": "python",
   "name": "python3"
  },
  "language_info": {
   "codemirror_mode": {
    "name": "ipython",
    "version": 3
   },
   "file_extension": ".py",
   "mimetype": "text/x-python",
   "name": "python",
   "nbconvert_exporter": "python",
   "pygments_lexer": "ipython3",
   "version": "3.6.5"
  }
 },
 "nbformat": 4,
 "nbformat_minor": 2
}
